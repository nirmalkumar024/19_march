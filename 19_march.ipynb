{
 "cells": [
  {
   "cell_type": "code",
   "execution_count": null,
   "id": "0ac041ae-a52d-49a8-8a36-0ba039525758",
   "metadata": {},
   "outputs": [],
   "source": [
    "Q1. What is Min-Max scaling, and how is it used in data preprocessing? Provide an example to illustrate its\n",
    "application."
   ]
  },
  {
   "cell_type": "markdown",
   "id": "d209748b-6349-4092-a724-fa27db639b1e",
   "metadata": {},
   "source": [
    " It is the simplest method and consists in rescaling the range of features to scale the range in [0, 1] or [−1, 1]. Selecting the target range depends on the nature of the data.\n",
    "It is Also known as min-max scaling or min-max normalization.\n",
    "\n",
    "Min-maxing is a statistical technique for re-scaling numerical values into a [0,1] range. For example, a series of album ratings scaled from 70 to 150 could be min-maxed so that every rating falls on or between 0 and 1, and the proportional distance between data points is retained\n"
   ]
  },
  {
   "cell_type": "code",
   "execution_count": null,
   "id": "8fea605d-bc01-41d9-b267-9ac305a75d7d",
   "metadata": {},
   "outputs": [],
   "source": [
    "Q2. What is the Unit Vector technique in feature scaling, and how does it differ from Min-Max scaling?\n",
    "Provide an example to illustrate its application."
   ]
  },
  {
   "cell_type": "markdown",
   "id": "5b00706e-9dc8-46a4-932d-f3c2e8261670",
   "metadata": {},
   "source": [
    "This normally requires dividing each component by the Euclidean length of the vector. In certain applications, it can be practical to use the L1 norm of the feature vector. Like min-max scaling, the unit vector technique will produce values that range between 0 and 1, It is differ from the min-max scaling because it is rescaling of the data but in unit vector we have only stastics vector vise."
   ]
  },
  {
   "cell_type": "markdown",
   "id": "7f72aa9b-db59-419a-8edd-ff77dc63452c",
   "metadata": {},
   "source": [
    "Q3. What is PCA (Principle Component Analysis), and how is it used in dimensionality reduction? Provide an\n",
    "example to illustrate its application."
   ]
  },
  {
   "cell_type": "markdown",
   "id": "5be28579-9ba6-4c9e-9bae-5fc73bdd3add",
   "metadata": {},
   "source": [
    "Principal component analysis, or PCA, is a statistical procedure that allows you to summarize the information content in large data tables by means of a smaller set of “summary indices” that can be more easily visualized and analyzed. The underlying data can be measurements describing properties of production samples, chemical compounds or reactions, process time points of a continuous process, batches from a batch process, biological individuals or trials of a DOE-protocol, for example.\n",
    "\n",
    "Dimensionality reduction is way to reduce the complexity of a model and avoid overfitting. There are two main categories of dimensionality reduction: feature selection and feature extraction. Via feature selection, we select a subset of the original features, whereas in feature extraction, we derive information from the feature set to construct a new feature subspace.\n",
    "In this tutorial we will explore feature extraction. In practice, feature extraction is not only used to improve storage space or the computational efficiency of the learning algorithm, but can also improve the predictive performance by reducing the curse of dimensionality — especially if we are working with non-regularized models."
   ]
  },
  {
   "cell_type": "markdown",
   "id": "e1331aaf-67ed-4971-9fbb-8d044be88ee6",
   "metadata": {},
   "source": [
    "Q4. What is the relationship between PCA and Feature Extraction, and how can PCA be used for Feature\n",
    "Extraction? Provide an example to illustrate this concept."
   ]
  },
  {
   "cell_type": "markdown",
   "id": "c38019a2-17b9-4e26-b106-2097fbb3bfba",
   "metadata": {},
   "source": [
    " PCA can also be used to derive new features or elements from the original data that might be more insightful or understandable than the original features. This is particularly helpful when the initial features are correlated or noisy.\n",
    " \n",
    "Feature extraction is the process of identifying and selecting the most important information or characteristics from a data set. It’s like distilling the essential elements, helping to simplify and highlight the key aspects while filtering out less significant details. It’s a way of focusing on what truly matters in the data.\n"
   ]
  },
  {
   "cell_type": "markdown",
   "id": "8b09955e-3667-41dc-9334-68a668f9107e",
   "metadata": {},
   "source": [
    "Q5. You are working on a project to build a recommendation system for a food delivery service. The dataset\n",
    "contains features such as price, rating, and delivery time. Explain how you would use Min-Max scaling to\n",
    "preprocess the data."
   ]
  },
  {
   "cell_type": "markdown",
   "id": "d90a6532-ecf5-4ec4-9916-52ac94c9728e",
   "metadata": {},
   "source": [
    "we have to work on the food delivery service so their have scaling prcess of the data means order are expontly decrease and increase some time we hae facing negative income so we know the mix-max scaling is process where we have to face negative to positive value."
   ]
  },
  {
   "cell_type": "markdown",
   "id": "988b78ec-1643-446a-a8a0-eb3f0d4ba491",
   "metadata": {},
   "source": [
    "Q6. You are working on a project to build a model to predict stock prices. The dataset contains many\n",
    "features, such as company financial data and market trends. Explain how you would use PCA to reduce the\n",
    "dimensionality of the dataset."
   ]
  },
  {
   "cell_type": "markdown",
   "id": "e0d27c6c-8a5e-43c7-8bc1-08382cf07849",
   "metadata": {},
   "source": [
    "We use PCA (Principle Component Analysis) for the analysis the data with dimensialy so we have compare our data with the different type of data set and we get massive number and in this project we face many number of data set and pridict the result so in this way we have to use PCA reduce dimensionality of the dataset."
   ]
  },
  {
   "cell_type": "markdown",
   "id": "f399e9aa-dfbc-4f24-8802-ad260ca23a2d",
   "metadata": {},
   "source": [
    "Q7. For a dataset containing the following values: [1, 5, 10, 15, 20], perform Min-Max scaling to transform the\n",
    "values to a range of -1 to 1."
   ]
  },
  {
   "cell_type": "code",
   "execution_count": 4,
   "id": "87cd8006-b3e6-4cc1-a859-375772368f6c",
   "metadata": {},
   "outputs": [
    {
     "name": "stdout",
     "output_type": "stream",
     "text": [
      "[0.         0.21052632 0.47368421 0.73684211 1.        ]\n"
     ]
    }
   ],
   "source": [
    "import numpy as np\n",
    "x = np.array( [1, 5, 10, 15, 20])\n",
    "# goal : range [0, 1]\n",
    "x1 = (x - min(x)) / ( max(x) - min(x) )\n",
    "print(x1)"
   ]
  },
  {
   "cell_type": "markdown",
   "id": "db9df7a4-3fd1-438c-a0aa-87cf08c8ff64",
   "metadata": {},
   "source": [
    "Q8. For a dataset containing the following features: [height, weight, age, gender, blood pressure], perform\n",
    "Feature Extraction using PCA. How many principal components would you choose to retain, and why?"
   ]
  },
  {
   "cell_type": "markdown",
   "id": "53829e24-a5d0-46f7-83a5-4069c61a951b",
   "metadata": {},
   "source": [
    "In this data set we have recognize by the dataset that which parmeter we have to find the output so we get by the PCA method and it is full depend on the dataset, in the dataset we have to find the soln of PCA coponent and it is give us dimensionaly function."
   ]
  },
  {
   "cell_type": "code",
   "execution_count": null,
   "id": "b15a81c0-8285-4457-949f-7f0d6aa0ba02",
   "metadata": {},
   "outputs": [],
   "source": []
  },
  {
   "cell_type": "code",
   "execution_count": null,
   "id": "1392e52e-1391-46b5-a63a-121d8c2d7e8c",
   "metadata": {},
   "outputs": [],
   "source": []
  }
 ],
 "metadata": {
  "kernelspec": {
   "display_name": "Python 3 (ipykernel)",
   "language": "python",
   "name": "python3"
  },
  "language_info": {
   "codemirror_mode": {
    "name": "ipython",
    "version": 3
   },
   "file_extension": ".py",
   "mimetype": "text/x-python",
   "name": "python",
   "nbconvert_exporter": "python",
   "pygments_lexer": "ipython3",
   "version": "3.10.8"
  }
 },
 "nbformat": 4,
 "nbformat_minor": 5
}
